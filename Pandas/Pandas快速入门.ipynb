{
 "cells": [
  {
   "cell_type": "markdown",
   "metadata": {},
   "source": [
    "# Pandas入门\n",
    "## 目录\n",
    "1. Object Creation 创建对象\n",
    "2. Viewing Data 显示数据\n",
    "3. Selection\n",
    "    - Getting\n",
    "    - Selection by Label\n",
    "    - Selection by Position\n",
    "    - Boolean Indexing\n",
    "    - Setting\n",
    "4. Missing Data\n",
    "5. Operations\n",
    "    - Stats\n",
    "    - Apply\n",
    "    - Histogramming\n",
    "    - String Methods\n",
    "6. Merge\n",
    "    - Concat\n",
    "    - Join\n",
    "    - Append\n",
    "7. Grouping\n",
    "8. Reshaping\n",
    "    - Stack\n",
    "    - Pivot Tables\n",
    "9. Time Series\n",
    "10. Categoricals\n",
    "11. Plotting\n",
    "12. Getting Data In/Out\n",
    "    - CSV\n",
    "    - HDF5\n",
    "    - Excel\n",
    "13. Gotchas"
   ]
  },
  {
   "cell_type": "code",
   "execution_count": 1,
   "metadata": {},
   "outputs": [],
   "source": [
    "import pandas as pd\n",
    "import numpy as np\n",
    "import matplotlib.pyplot as plt"
   ]
  },
  {
   "cell_type": "markdown",
   "metadata": {},
   "source": [
    "## 创建对象"
   ]
  },
  {
   "cell_type": "code",
   "execution_count": 2,
   "metadata": {},
   "outputs": [
    {
     "data": {
      "text/plain": [
       "0    1.0\n",
       "1    3.0\n",
       "2    5.0\n",
       "3    NaN\n",
       "4    6.0\n",
       "5    8.0\n",
       "dtype: float64"
      ]
     },
     "execution_count": 2,
     "metadata": {},
     "output_type": "execute_result"
    }
   ],
   "source": [
    "# 通过传递列表 创建序列\n",
    "s = pd.Series([1,3,5,np.nan,6,8])\n",
    "s"
   ]
  },
  {
   "cell_type": "code",
   "execution_count": 3,
   "metadata": {},
   "outputs": [
    {
     "data": {
      "text/plain": [
       "DatetimeIndex(['2013-01-01', '2013-01-02', '2013-01-03', '2013-01-04',\n",
       "               '2013-01-05', '2013-01-06'],\n",
       "              dtype='datetime64[ns]', freq='D')"
      ]
     },
     "execution_count": 3,
     "metadata": {},
     "output_type": "execute_result"
    }
   ],
   "source": [
    "# 传递Numpy数组 datetime索引 标签行来创建DataFrame\n",
    "dates = pd.date_range('20130101', periods=6)\n",
    "dates"
   ]
  },
  {
   "cell_type": "code",
   "execution_count": 4,
   "metadata": {},
   "outputs": [
    {
     "data": {
      "text/html": [
       "<div>\n",
       "<style scoped>\n",
       "    .dataframe tbody tr th:only-of-type {\n",
       "        vertical-align: middle;\n",
       "    }\n",
       "\n",
       "    .dataframe tbody tr th {\n",
       "        vertical-align: top;\n",
       "    }\n",
       "\n",
       "    .dataframe thead th {\n",
       "        text-align: right;\n",
       "    }\n",
       "</style>\n",
       "<table border=\"1\" class=\"dataframe\">\n",
       "  <thead>\n",
       "    <tr style=\"text-align: right;\">\n",
       "      <th></th>\n",
       "      <th>A</th>\n",
       "      <th>B</th>\n",
       "      <th>C</th>\n",
       "      <th>D</th>\n",
       "    </tr>\n",
       "  </thead>\n",
       "  <tbody>\n",
       "    <tr>\n",
       "      <th>2013-01-01</th>\n",
       "      <td>-1.831260</td>\n",
       "      <td>-1.103149</td>\n",
       "      <td>1.040924</td>\n",
       "      <td>-0.474663</td>\n",
       "    </tr>\n",
       "    <tr>\n",
       "      <th>2013-01-02</th>\n",
       "      <td>-2.870575</td>\n",
       "      <td>-0.132806</td>\n",
       "      <td>-0.644409</td>\n",
       "      <td>-0.925214</td>\n",
       "    </tr>\n",
       "    <tr>\n",
       "      <th>2013-01-03</th>\n",
       "      <td>-0.366481</td>\n",
       "      <td>-1.659924</td>\n",
       "      <td>0.062137</td>\n",
       "      <td>-1.141534</td>\n",
       "    </tr>\n",
       "    <tr>\n",
       "      <th>2013-01-04</th>\n",
       "      <td>0.099317</td>\n",
       "      <td>0.395525</td>\n",
       "      <td>-0.755232</td>\n",
       "      <td>0.617548</td>\n",
       "    </tr>\n",
       "    <tr>\n",
       "      <th>2013-01-05</th>\n",
       "      <td>-0.289928</td>\n",
       "      <td>0.170239</td>\n",
       "      <td>0.449273</td>\n",
       "      <td>0.848893</td>\n",
       "    </tr>\n",
       "    <tr>\n",
       "      <th>2013-01-06</th>\n",
       "      <td>-0.306429</td>\n",
       "      <td>-1.715975</td>\n",
       "      <td>1.351024</td>\n",
       "      <td>0.030628</td>\n",
       "    </tr>\n",
       "  </tbody>\n",
       "</table>\n",
       "</div>"
      ],
      "text/plain": [
       "                   A         B         C         D\n",
       "2013-01-01 -1.831260 -1.103149  1.040924 -0.474663\n",
       "2013-01-02 -2.870575 -0.132806 -0.644409 -0.925214\n",
       "2013-01-03 -0.366481 -1.659924  0.062137 -1.141534\n",
       "2013-01-04  0.099317  0.395525 -0.755232  0.617548\n",
       "2013-01-05 -0.289928  0.170239  0.449273  0.848893\n",
       "2013-01-06 -0.306429 -1.715975  1.351024  0.030628"
      ]
     },
     "execution_count": 4,
     "metadata": {},
     "output_type": "execute_result"
    }
   ],
   "source": [
    "df = pd.DataFrame(np.random.randn(6,4), index=dates, columns=list('ABCD'))\n",
    "df"
   ]
  },
  {
   "cell_type": "code",
   "execution_count": 5,
   "metadata": {},
   "outputs": [
    {
     "data": {
      "text/html": [
       "<div>\n",
       "<style scoped>\n",
       "    .dataframe tbody tr th:only-of-type {\n",
       "        vertical-align: middle;\n",
       "    }\n",
       "\n",
       "    .dataframe tbody tr th {\n",
       "        vertical-align: top;\n",
       "    }\n",
       "\n",
       "    .dataframe thead th {\n",
       "        text-align: right;\n",
       "    }\n",
       "</style>\n",
       "<table border=\"1\" class=\"dataframe\">\n",
       "  <thead>\n",
       "    <tr style=\"text-align: right;\">\n",
       "      <th></th>\n",
       "      <th>A</th>\n",
       "      <th>B</th>\n",
       "      <th>C</th>\n",
       "      <th>D</th>\n",
       "      <th>E</th>\n",
       "      <th>F</th>\n",
       "    </tr>\n",
       "  </thead>\n",
       "  <tbody>\n",
       "    <tr>\n",
       "      <th>0</th>\n",
       "      <td>1.0</td>\n",
       "      <td>2019-04-28</td>\n",
       "      <td>1.0</td>\n",
       "      <td>3</td>\n",
       "      <td>test</td>\n",
       "      <td>foo</td>\n",
       "    </tr>\n",
       "    <tr>\n",
       "      <th>1</th>\n",
       "      <td>1.0</td>\n",
       "      <td>2019-04-28</td>\n",
       "      <td>1.0</td>\n",
       "      <td>3</td>\n",
       "      <td>train</td>\n",
       "      <td>foo</td>\n",
       "    </tr>\n",
       "    <tr>\n",
       "      <th>2</th>\n",
       "      <td>1.0</td>\n",
       "      <td>2019-04-28</td>\n",
       "      <td>1.0</td>\n",
       "      <td>3</td>\n",
       "      <td>test</td>\n",
       "      <td>foo</td>\n",
       "    </tr>\n",
       "    <tr>\n",
       "      <th>3</th>\n",
       "      <td>1.0</td>\n",
       "      <td>2019-04-28</td>\n",
       "      <td>1.0</td>\n",
       "      <td>3</td>\n",
       "      <td>train</td>\n",
       "      <td>foo</td>\n",
       "    </tr>\n",
       "  </tbody>\n",
       "</table>\n",
       "</div>"
      ],
      "text/plain": [
       "     A          B    C  D      E    F\n",
       "0  1.0 2019-04-28  1.0  3   test  foo\n",
       "1  1.0 2019-04-28  1.0  3  train  foo\n",
       "2  1.0 2019-04-28  1.0  3   test  foo\n",
       "3  1.0 2019-04-28  1.0  3  train  foo"
      ]
     },
     "execution_count": 5,
     "metadata": {},
     "output_type": "execute_result"
    }
   ],
   "source": [
    "# 传递 可被转化成序列形式的对象的字典 创建DataFrame\n",
    "df2 = pd.DataFrame({ \n",
    "    'A': 1.,\n",
    "    'B': pd.Timestamp('20190428'),\n",
    "    'C': pd.Series(1, index=list(range(4)), dtype='float32'),\n",
    "    'D': np.array([3]*4,dtype='int32'),\n",
    "    'E': pd.Categorical(['test','train','test','train']),\n",
    "    'F': 'foo'})\n",
    "df2"
   ]
  },
  {
   "cell_type": "code",
   "execution_count": 6,
   "metadata": {},
   "outputs": [
    {
     "data": {
      "text/plain": [
       "A           float64\n",
       "B    datetime64[ns]\n",
       "C           float32\n",
       "D             int32\n",
       "E          category\n",
       "F            object\n",
       "dtype: object"
      ]
     },
     "execution_count": 6,
     "metadata": {},
     "output_type": "execute_result"
    }
   ],
   "source": [
    "df2.dtypes\n",
    "# df2.<tab>"
   ]
  },
  {
   "cell_type": "markdown",
   "metadata": {},
   "source": [
    "## Viewing Data 显示数据"
   ]
  },
  {
   "cell_type": "code",
   "execution_count": 7,
   "metadata": {},
   "outputs": [
    {
     "data": {
      "text/html": [
       "<div>\n",
       "<style scoped>\n",
       "    .dataframe tbody tr th:only-of-type {\n",
       "        vertical-align: middle;\n",
       "    }\n",
       "\n",
       "    .dataframe tbody tr th {\n",
       "        vertical-align: top;\n",
       "    }\n",
       "\n",
       "    .dataframe thead th {\n",
       "        text-align: right;\n",
       "    }\n",
       "</style>\n",
       "<table border=\"1\" class=\"dataframe\">\n",
       "  <thead>\n",
       "    <tr style=\"text-align: right;\">\n",
       "      <th></th>\n",
       "      <th>A</th>\n",
       "      <th>B</th>\n",
       "      <th>C</th>\n",
       "      <th>D</th>\n",
       "    </tr>\n",
       "  </thead>\n",
       "  <tbody>\n",
       "    <tr>\n",
       "      <th>2013-01-04</th>\n",
       "      <td>0.099317</td>\n",
       "      <td>0.395525</td>\n",
       "      <td>-0.755232</td>\n",
       "      <td>0.617548</td>\n",
       "    </tr>\n",
       "    <tr>\n",
       "      <th>2013-01-05</th>\n",
       "      <td>-0.289928</td>\n",
       "      <td>0.170239</td>\n",
       "      <td>0.449273</td>\n",
       "      <td>0.848893</td>\n",
       "    </tr>\n",
       "    <tr>\n",
       "      <th>2013-01-06</th>\n",
       "      <td>-0.306429</td>\n",
       "      <td>-1.715975</td>\n",
       "      <td>1.351024</td>\n",
       "      <td>0.030628</td>\n",
       "    </tr>\n",
       "  </tbody>\n",
       "</table>\n",
       "</div>"
      ],
      "text/plain": [
       "                   A         B         C         D\n",
       "2013-01-04  0.099317  0.395525 -0.755232  0.617548\n",
       "2013-01-05 -0.289928  0.170239  0.449273  0.848893\n",
       "2013-01-06 -0.306429 -1.715975  1.351024  0.030628"
      ]
     },
     "execution_count": 7,
     "metadata": {},
     "output_type": "execute_result"
    }
   ],
   "source": [
    "df.head()\n",
    "df.tail(3)"
   ]
  },
  {
   "cell_type": "code",
   "execution_count": 8,
   "metadata": {},
   "outputs": [
    {
     "data": {
      "text/plain": [
       "DatetimeIndex(['2013-01-01', '2013-01-02', '2013-01-03', '2013-01-04',\n",
       "               '2013-01-05', '2013-01-06'],\n",
       "              dtype='datetime64[ns]', freq='D')"
      ]
     },
     "execution_count": 8,
     "metadata": {},
     "output_type": "execute_result"
    }
   ],
   "source": [
    "# 显示索引、行以及underlying Numpy data\n",
    "df.index"
   ]
  },
  {
   "cell_type": "code",
   "execution_count": 9,
   "metadata": {},
   "outputs": [
    {
     "data": {
      "text/plain": [
       "Index(['A', 'B', 'C', 'D'], dtype='object')"
      ]
     },
     "execution_count": 9,
     "metadata": {},
     "output_type": "execute_result"
    }
   ],
   "source": [
    "df.columns"
   ]
  },
  {
   "cell_type": "code",
   "execution_count": 10,
   "metadata": {},
   "outputs": [
    {
     "data": {
      "text/plain": [
       "array([[-1.83126004, -1.10314854,  1.04092435, -0.47466257],\n",
       "       [-2.87057478, -0.13280595, -0.64440921, -0.92521365],\n",
       "       [-0.36648138, -1.65992368,  0.06213716, -1.14153368],\n",
       "       [ 0.09931704,  0.39552473, -0.7552322 ,  0.61754785],\n",
       "       [-0.28992804,  0.17023856,  0.44927319,  0.84889313],\n",
       "       [-0.30642852, -1.71597524,  1.35102429,  0.03062815]])"
      ]
     },
     "execution_count": 10,
     "metadata": {},
     "output_type": "execute_result"
    }
   ],
   "source": [
    "df.values"
   ]
  },
  {
   "cell_type": "code",
   "execution_count": 11,
   "metadata": {},
   "outputs": [
    {
     "data": {
      "text/html": [
       "<div>\n",
       "<style scoped>\n",
       "    .dataframe tbody tr th:only-of-type {\n",
       "        vertical-align: middle;\n",
       "    }\n",
       "\n",
       "    .dataframe tbody tr th {\n",
       "        vertical-align: top;\n",
       "    }\n",
       "\n",
       "    .dataframe thead th {\n",
       "        text-align: right;\n",
       "    }\n",
       "</style>\n",
       "<table border=\"1\" class=\"dataframe\">\n",
       "  <thead>\n",
       "    <tr style=\"text-align: right;\">\n",
       "      <th></th>\n",
       "      <th>A</th>\n",
       "      <th>B</th>\n",
       "      <th>C</th>\n",
       "      <th>D</th>\n",
       "    </tr>\n",
       "  </thead>\n",
       "  <tbody>\n",
       "    <tr>\n",
       "      <th>count</th>\n",
       "      <td>6.000000</td>\n",
       "      <td>6.000000</td>\n",
       "      <td>6.000000</td>\n",
       "      <td>6.000000</td>\n",
       "    </tr>\n",
       "    <tr>\n",
       "      <th>mean</th>\n",
       "      <td>-0.927559</td>\n",
       "      <td>-0.674348</td>\n",
       "      <td>0.250620</td>\n",
       "      <td>-0.174057</td>\n",
       "    </tr>\n",
       "    <tr>\n",
       "      <th>std</th>\n",
       "      <td>1.162209</td>\n",
       "      <td>0.937170</td>\n",
       "      <td>0.862934</td>\n",
       "      <td>0.813089</td>\n",
       "    </tr>\n",
       "    <tr>\n",
       "      <th>min</th>\n",
       "      <td>-2.870575</td>\n",
       "      <td>-1.715975</td>\n",
       "      <td>-0.755232</td>\n",
       "      <td>-1.141534</td>\n",
       "    </tr>\n",
       "    <tr>\n",
       "      <th>25%</th>\n",
       "      <td>-1.465065</td>\n",
       "      <td>-1.520730</td>\n",
       "      <td>-0.467773</td>\n",
       "      <td>-0.812576</td>\n",
       "    </tr>\n",
       "    <tr>\n",
       "      <th>50%</th>\n",
       "      <td>-0.336455</td>\n",
       "      <td>-0.617977</td>\n",
       "      <td>0.255705</td>\n",
       "      <td>-0.222017</td>\n",
       "    </tr>\n",
       "    <tr>\n",
       "      <th>75%</th>\n",
       "      <td>-0.294053</td>\n",
       "      <td>0.094477</td>\n",
       "      <td>0.893012</td>\n",
       "      <td>0.470818</td>\n",
       "    </tr>\n",
       "    <tr>\n",
       "      <th>max</th>\n",
       "      <td>0.099317</td>\n",
       "      <td>0.395525</td>\n",
       "      <td>1.351024</td>\n",
       "      <td>0.848893</td>\n",
       "    </tr>\n",
       "  </tbody>\n",
       "</table>\n",
       "</div>"
      ],
      "text/plain": [
       "              A         B         C         D\n",
       "count  6.000000  6.000000  6.000000  6.000000\n",
       "mean  -0.927559 -0.674348  0.250620 -0.174057\n",
       "std    1.162209  0.937170  0.862934  0.813089\n",
       "min   -2.870575 -1.715975 -0.755232 -1.141534\n",
       "25%   -1.465065 -1.520730 -0.467773 -0.812576\n",
       "50%   -0.336455 -0.617977  0.255705 -0.222017\n",
       "75%   -0.294053  0.094477  0.893012  0.470818\n",
       "max    0.099317  0.395525  1.351024  0.848893"
      ]
     },
     "execution_count": 11,
     "metadata": {},
     "output_type": "execute_result"
    }
   ],
   "source": [
    "df.describe()# 展示数据快速的统计摘要"
   ]
  },
  {
   "cell_type": "code",
   "execution_count": 12,
   "metadata": {
    "scrolled": false
   },
   "outputs": [
    {
     "data": {
      "text/html": [
       "<div>\n",
       "<style scoped>\n",
       "    .dataframe tbody tr th:only-of-type {\n",
       "        vertical-align: middle;\n",
       "    }\n",
       "\n",
       "    .dataframe tbody tr th {\n",
       "        vertical-align: top;\n",
       "    }\n",
       "\n",
       "    .dataframe thead th {\n",
       "        text-align: right;\n",
       "    }\n",
       "</style>\n",
       "<table border=\"1\" class=\"dataframe\">\n",
       "  <thead>\n",
       "    <tr style=\"text-align: right;\">\n",
       "      <th></th>\n",
       "      <th>2013-01-01 00:00:00</th>\n",
       "      <th>2013-01-02 00:00:00</th>\n",
       "      <th>2013-01-03 00:00:00</th>\n",
       "      <th>2013-01-04 00:00:00</th>\n",
       "      <th>2013-01-05 00:00:00</th>\n",
       "      <th>2013-01-06 00:00:00</th>\n",
       "    </tr>\n",
       "  </thead>\n",
       "  <tbody>\n",
       "    <tr>\n",
       "      <th>A</th>\n",
       "      <td>-1.831260</td>\n",
       "      <td>-2.870575</td>\n",
       "      <td>-0.366481</td>\n",
       "      <td>0.099317</td>\n",
       "      <td>-0.289928</td>\n",
       "      <td>-0.306429</td>\n",
       "    </tr>\n",
       "    <tr>\n",
       "      <th>B</th>\n",
       "      <td>-1.103149</td>\n",
       "      <td>-0.132806</td>\n",
       "      <td>-1.659924</td>\n",
       "      <td>0.395525</td>\n",
       "      <td>0.170239</td>\n",
       "      <td>-1.715975</td>\n",
       "    </tr>\n",
       "    <tr>\n",
       "      <th>C</th>\n",
       "      <td>1.040924</td>\n",
       "      <td>-0.644409</td>\n",
       "      <td>0.062137</td>\n",
       "      <td>-0.755232</td>\n",
       "      <td>0.449273</td>\n",
       "      <td>1.351024</td>\n",
       "    </tr>\n",
       "    <tr>\n",
       "      <th>D</th>\n",
       "      <td>-0.474663</td>\n",
       "      <td>-0.925214</td>\n",
       "      <td>-1.141534</td>\n",
       "      <td>0.617548</td>\n",
       "      <td>0.848893</td>\n",
       "      <td>0.030628</td>\n",
       "    </tr>\n",
       "  </tbody>\n",
       "</table>\n",
       "</div>"
      ],
      "text/plain": [
       "   2013-01-01  2013-01-02  2013-01-03  2013-01-04  2013-01-05  2013-01-06\n",
       "A   -1.831260   -2.870575   -0.366481    0.099317   -0.289928   -0.306429\n",
       "B   -1.103149   -0.132806   -1.659924    0.395525    0.170239   -1.715975\n",
       "C    1.040924   -0.644409    0.062137   -0.755232    0.449273    1.351024\n",
       "D   -0.474663   -0.925214   -1.141534    0.617548    0.848893    0.030628"
      ]
     },
     "execution_count": 12,
     "metadata": {},
     "output_type": "execute_result"
    }
   ],
   "source": [
    "df.T # 转制数据"
   ]
  },
  {
   "cell_type": "code",
   "execution_count": 13,
   "metadata": {},
   "outputs": [
    {
     "data": {
      "text/html": [
       "<div>\n",
       "<style scoped>\n",
       "    .dataframe tbody tr th:only-of-type {\n",
       "        vertical-align: middle;\n",
       "    }\n",
       "\n",
       "    .dataframe tbody tr th {\n",
       "        vertical-align: top;\n",
       "    }\n",
       "\n",
       "    .dataframe thead th {\n",
       "        text-align: right;\n",
       "    }\n",
       "</style>\n",
       "<table border=\"1\" class=\"dataframe\">\n",
       "  <thead>\n",
       "    <tr style=\"text-align: right;\">\n",
       "      <th></th>\n",
       "      <th>D</th>\n",
       "      <th>C</th>\n",
       "      <th>B</th>\n",
       "      <th>A</th>\n",
       "    </tr>\n",
       "  </thead>\n",
       "  <tbody>\n",
       "    <tr>\n",
       "      <th>2013-01-01</th>\n",
       "      <td>-0.474663</td>\n",
       "      <td>1.040924</td>\n",
       "      <td>-1.103149</td>\n",
       "      <td>-1.831260</td>\n",
       "    </tr>\n",
       "    <tr>\n",
       "      <th>2013-01-02</th>\n",
       "      <td>-0.925214</td>\n",
       "      <td>-0.644409</td>\n",
       "      <td>-0.132806</td>\n",
       "      <td>-2.870575</td>\n",
       "    </tr>\n",
       "    <tr>\n",
       "      <th>2013-01-03</th>\n",
       "      <td>-1.141534</td>\n",
       "      <td>0.062137</td>\n",
       "      <td>-1.659924</td>\n",
       "      <td>-0.366481</td>\n",
       "    </tr>\n",
       "    <tr>\n",
       "      <th>2013-01-04</th>\n",
       "      <td>0.617548</td>\n",
       "      <td>-0.755232</td>\n",
       "      <td>0.395525</td>\n",
       "      <td>0.099317</td>\n",
       "    </tr>\n",
       "    <tr>\n",
       "      <th>2013-01-05</th>\n",
       "      <td>0.848893</td>\n",
       "      <td>0.449273</td>\n",
       "      <td>0.170239</td>\n",
       "      <td>-0.289928</td>\n",
       "    </tr>\n",
       "    <tr>\n",
       "      <th>2013-01-06</th>\n",
       "      <td>0.030628</td>\n",
       "      <td>1.351024</td>\n",
       "      <td>-1.715975</td>\n",
       "      <td>-0.306429</td>\n",
       "    </tr>\n",
       "  </tbody>\n",
       "</table>\n",
       "</div>"
      ],
      "text/plain": [
       "                   D         C         B         A\n",
       "2013-01-01 -0.474663  1.040924 -1.103149 -1.831260\n",
       "2013-01-02 -0.925214 -0.644409 -0.132806 -2.870575\n",
       "2013-01-03 -1.141534  0.062137 -1.659924 -0.366481\n",
       "2013-01-04  0.617548 -0.755232  0.395525  0.099317\n",
       "2013-01-05  0.848893  0.449273  0.170239 -0.289928\n",
       "2013-01-06  0.030628  1.351024 -1.715975 -0.306429"
      ]
     },
     "execution_count": 13,
     "metadata": {},
     "output_type": "execute_result"
    }
   ],
   "source": [
    "df.sort_index(axis=1, ascending=False) # 按axis排序"
   ]
  },
  {
   "cell_type": "code",
   "execution_count": 14,
   "metadata": {},
   "outputs": [
    {
     "data": {
      "text/html": [
       "<div>\n",
       "<style scoped>\n",
       "    .dataframe tbody tr th:only-of-type {\n",
       "        vertical-align: middle;\n",
       "    }\n",
       "\n",
       "    .dataframe tbody tr th {\n",
       "        vertical-align: top;\n",
       "    }\n",
       "\n",
       "    .dataframe thead th {\n",
       "        text-align: right;\n",
       "    }\n",
       "</style>\n",
       "<table border=\"1\" class=\"dataframe\">\n",
       "  <thead>\n",
       "    <tr style=\"text-align: right;\">\n",
       "      <th></th>\n",
       "      <th>A</th>\n",
       "      <th>B</th>\n",
       "      <th>C</th>\n",
       "      <th>D</th>\n",
       "    </tr>\n",
       "  </thead>\n",
       "  <tbody>\n",
       "    <tr>\n",
       "      <th>2013-01-06</th>\n",
       "      <td>-0.306429</td>\n",
       "      <td>-1.715975</td>\n",
       "      <td>1.351024</td>\n",
       "      <td>0.030628</td>\n",
       "    </tr>\n",
       "    <tr>\n",
       "      <th>2013-01-03</th>\n",
       "      <td>-0.366481</td>\n",
       "      <td>-1.659924</td>\n",
       "      <td>0.062137</td>\n",
       "      <td>-1.141534</td>\n",
       "    </tr>\n",
       "    <tr>\n",
       "      <th>2013-01-01</th>\n",
       "      <td>-1.831260</td>\n",
       "      <td>-1.103149</td>\n",
       "      <td>1.040924</td>\n",
       "      <td>-0.474663</td>\n",
       "    </tr>\n",
       "    <tr>\n",
       "      <th>2013-01-02</th>\n",
       "      <td>-2.870575</td>\n",
       "      <td>-0.132806</td>\n",
       "      <td>-0.644409</td>\n",
       "      <td>-0.925214</td>\n",
       "    </tr>\n",
       "    <tr>\n",
       "      <th>2013-01-05</th>\n",
       "      <td>-0.289928</td>\n",
       "      <td>0.170239</td>\n",
       "      <td>0.449273</td>\n",
       "      <td>0.848893</td>\n",
       "    </tr>\n",
       "    <tr>\n",
       "      <th>2013-01-04</th>\n",
       "      <td>0.099317</td>\n",
       "      <td>0.395525</td>\n",
       "      <td>-0.755232</td>\n",
       "      <td>0.617548</td>\n",
       "    </tr>\n",
       "  </tbody>\n",
       "</table>\n",
       "</div>"
      ],
      "text/plain": [
       "                   A         B         C         D\n",
       "2013-01-06 -0.306429 -1.715975  1.351024  0.030628\n",
       "2013-01-03 -0.366481 -1.659924  0.062137 -1.141534\n",
       "2013-01-01 -1.831260 -1.103149  1.040924 -0.474663\n",
       "2013-01-02 -2.870575 -0.132806 -0.644409 -0.925214\n",
       "2013-01-05 -0.289928  0.170239  0.449273  0.848893\n",
       "2013-01-04  0.099317  0.395525 -0.755232  0.617548"
      ]
     },
     "execution_count": 14,
     "metadata": {},
     "output_type": "execute_result"
    }
   ],
   "source": [
    "df.sort_values(by='B') # 按值排序"
   ]
  },
  {
   "cell_type": "markdown",
   "metadata": {},
   "source": [
    "## Selection\n",
    "注意：虽然用于选择和设置的标准Python / Numpy表达式非常直观并且可以用于交互式工作，但对于生产代码，我们建议使用优化的pandas数据访问方法.at，.iat，.loc和.iloc。请参阅索引文档索引和选择数据以及MultiIndex / Advanced索引。\n",
    "### Getting"
   ]
  },
  {
   "cell_type": "code",
   "execution_count": 15,
   "metadata": {},
   "outputs": [
    {
     "data": {
      "text/plain": [
       "2013-01-01   -1.831260\n",
       "2013-01-02   -2.870575\n",
       "2013-01-03   -0.366481\n",
       "2013-01-04    0.099317\n",
       "2013-01-05   -0.289928\n",
       "2013-01-06   -0.306429\n",
       "Freq: D, Name: A, dtype: float64"
      ]
     },
     "execution_count": 15,
     "metadata": {},
     "output_type": "execute_result"
    }
   ],
   "source": [
    "# 用序列方式选择单行 等价于df.a\n",
    "df['A']"
   ]
  },
  {
   "cell_type": "code",
   "execution_count": 16,
   "metadata": {},
   "outputs": [
    {
     "data": {
      "text/html": [
       "<div>\n",
       "<style scoped>\n",
       "    .dataframe tbody tr th:only-of-type {\n",
       "        vertical-align: middle;\n",
       "    }\n",
       "\n",
       "    .dataframe tbody tr th {\n",
       "        vertical-align: top;\n",
       "    }\n",
       "\n",
       "    .dataframe thead th {\n",
       "        text-align: right;\n",
       "    }\n",
       "</style>\n",
       "<table border=\"1\" class=\"dataframe\">\n",
       "  <thead>\n",
       "    <tr style=\"text-align: right;\">\n",
       "      <th></th>\n",
       "      <th>A</th>\n",
       "      <th>B</th>\n",
       "      <th>C</th>\n",
       "      <th>D</th>\n",
       "    </tr>\n",
       "  </thead>\n",
       "  <tbody>\n",
       "    <tr>\n",
       "      <th>2013-01-01</th>\n",
       "      <td>-1.831260</td>\n",
       "      <td>-1.103149</td>\n",
       "      <td>1.040924</td>\n",
       "      <td>-0.474663</td>\n",
       "    </tr>\n",
       "    <tr>\n",
       "      <th>2013-01-02</th>\n",
       "      <td>-2.870575</td>\n",
       "      <td>-0.132806</td>\n",
       "      <td>-0.644409</td>\n",
       "      <td>-0.925214</td>\n",
       "    </tr>\n",
       "    <tr>\n",
       "      <th>2013-01-03</th>\n",
       "      <td>-0.366481</td>\n",
       "      <td>-1.659924</td>\n",
       "      <td>0.062137</td>\n",
       "      <td>-1.141534</td>\n",
       "    </tr>\n",
       "  </tbody>\n",
       "</table>\n",
       "</div>"
      ],
      "text/plain": [
       "                   A         B         C         D\n",
       "2013-01-01 -1.831260 -1.103149  1.040924 -0.474663\n",
       "2013-01-02 -2.870575 -0.132806 -0.644409 -0.925214\n",
       "2013-01-03 -0.366481 -1.659924  0.062137 -1.141534"
      ]
     },
     "execution_count": 16,
     "metadata": {},
     "output_type": "execute_result"
    }
   ],
   "source": [
    "# 通过[]对列切片\n",
    "df[0:3]"
   ]
  },
  {
   "cell_type": "code",
   "execution_count": 17,
   "metadata": {},
   "outputs": [
    {
     "data": {
      "text/html": [
       "<div>\n",
       "<style scoped>\n",
       "    .dataframe tbody tr th:only-of-type {\n",
       "        vertical-align: middle;\n",
       "    }\n",
       "\n",
       "    .dataframe tbody tr th {\n",
       "        vertical-align: top;\n",
       "    }\n",
       "\n",
       "    .dataframe thead th {\n",
       "        text-align: right;\n",
       "    }\n",
       "</style>\n",
       "<table border=\"1\" class=\"dataframe\">\n",
       "  <thead>\n",
       "    <tr style=\"text-align: right;\">\n",
       "      <th></th>\n",
       "      <th>A</th>\n",
       "      <th>B</th>\n",
       "      <th>C</th>\n",
       "      <th>D</th>\n",
       "    </tr>\n",
       "  </thead>\n",
       "  <tbody>\n",
       "    <tr>\n",
       "      <th>2013-01-01</th>\n",
       "      <td>-1.831260</td>\n",
       "      <td>-1.103149</td>\n",
       "      <td>1.040924</td>\n",
       "      <td>-0.474663</td>\n",
       "    </tr>\n",
       "    <tr>\n",
       "      <th>2013-01-02</th>\n",
       "      <td>-2.870575</td>\n",
       "      <td>-0.132806</td>\n",
       "      <td>-0.644409</td>\n",
       "      <td>-0.925214</td>\n",
       "    </tr>\n",
       "    <tr>\n",
       "      <th>2013-01-03</th>\n",
       "      <td>-0.366481</td>\n",
       "      <td>-1.659924</td>\n",
       "      <td>0.062137</td>\n",
       "      <td>-1.141534</td>\n",
       "    </tr>\n",
       "    <tr>\n",
       "      <th>2013-01-04</th>\n",
       "      <td>0.099317</td>\n",
       "      <td>0.395525</td>\n",
       "      <td>-0.755232</td>\n",
       "      <td>0.617548</td>\n",
       "    </tr>\n",
       "  </tbody>\n",
       "</table>\n",
       "</div>"
      ],
      "text/plain": [
       "                   A         B         C         D\n",
       "2013-01-01 -1.831260 -1.103149  1.040924 -0.474663\n",
       "2013-01-02 -2.870575 -0.132806 -0.644409 -0.925214\n",
       "2013-01-03 -0.366481 -1.659924  0.062137 -1.141534\n",
       "2013-01-04  0.099317  0.395525 -0.755232  0.617548"
      ]
     },
     "execution_count": 17,
     "metadata": {},
     "output_type": "execute_result"
    }
   ],
   "source": [
    "df['20130101':'20130104']"
   ]
  },
  {
   "cell_type": "markdown",
   "metadata": {},
   "source": [
    "### 用标签选择"
   ]
  },
  {
   "cell_type": "code",
   "execution_count": 18,
   "metadata": {},
   "outputs": [
    {
     "data": {
      "text/plain": [
       "A   -1.831260\n",
       "B   -1.103149\n",
       "C    1.040924\n",
       "D   -0.474663\n",
       "Name: 2013-01-01 00:00:00, dtype: float64"
      ]
     },
     "execution_count": 18,
     "metadata": {},
     "output_type": "execute_result"
    }
   ],
   "source": [
    "df.loc[dates[0]]   # For getting a cross section using a label:"
   ]
  },
  {
   "cell_type": "code",
   "execution_count": 19,
   "metadata": {},
   "outputs": [
    {
     "data": {
      "text/html": [
       "<div>\n",
       "<style scoped>\n",
       "    .dataframe tbody tr th:only-of-type {\n",
       "        vertical-align: middle;\n",
       "    }\n",
       "\n",
       "    .dataframe tbody tr th {\n",
       "        vertical-align: top;\n",
       "    }\n",
       "\n",
       "    .dataframe thead th {\n",
       "        text-align: right;\n",
       "    }\n",
       "</style>\n",
       "<table border=\"1\" class=\"dataframe\">\n",
       "  <thead>\n",
       "    <tr style=\"text-align: right;\">\n",
       "      <th></th>\n",
       "      <th>A</th>\n",
       "      <th>B</th>\n",
       "    </tr>\n",
       "  </thead>\n",
       "  <tbody>\n",
       "    <tr>\n",
       "      <th>2013-01-01</th>\n",
       "      <td>-1.831260</td>\n",
       "      <td>-1.103149</td>\n",
       "    </tr>\n",
       "    <tr>\n",
       "      <th>2013-01-02</th>\n",
       "      <td>-2.870575</td>\n",
       "      <td>-0.132806</td>\n",
       "    </tr>\n",
       "    <tr>\n",
       "      <th>2013-01-03</th>\n",
       "      <td>-0.366481</td>\n",
       "      <td>-1.659924</td>\n",
       "    </tr>\n",
       "    <tr>\n",
       "      <th>2013-01-04</th>\n",
       "      <td>0.099317</td>\n",
       "      <td>0.395525</td>\n",
       "    </tr>\n",
       "    <tr>\n",
       "      <th>2013-01-05</th>\n",
       "      <td>-0.289928</td>\n",
       "      <td>0.170239</td>\n",
       "    </tr>\n",
       "    <tr>\n",
       "      <th>2013-01-06</th>\n",
       "      <td>-0.306429</td>\n",
       "      <td>-1.715975</td>\n",
       "    </tr>\n",
       "  </tbody>\n",
       "</table>\n",
       "</div>"
      ],
      "text/plain": [
       "                   A         B\n",
       "2013-01-01 -1.831260 -1.103149\n",
       "2013-01-02 -2.870575 -0.132806\n",
       "2013-01-03 -0.366481 -1.659924\n",
       "2013-01-04  0.099317  0.395525\n",
       "2013-01-05 -0.289928  0.170239\n",
       "2013-01-06 -0.306429 -1.715975"
      ]
     },
     "execution_count": 19,
     "metadata": {},
     "output_type": "execute_result"
    }
   ],
   "source": [
    "df.loc[:,['A','B']]    # Selecting on a multi-axis by label"
   ]
  },
  {
   "cell_type": "code",
   "execution_count": 20,
   "metadata": {},
   "outputs": [
    {
     "data": {
      "text/plain": [
       "A   -1.831260\n",
       "B   -1.103149\n",
       "Name: 2013-01-01 00:00:00, dtype: float64"
      ]
     },
     "execution_count": 20,
     "metadata": {},
     "output_type": "execute_result"
    }
   ],
   "source": [
    "df.loc['20130101',['A','B']]    # 减少返回对象的尺寸"
   ]
  },
  {
   "cell_type": "code",
   "execution_count": 21,
   "metadata": {},
   "outputs": [
    {
     "data": {
      "text/plain": [
       "-1.8312600351105242"
      ]
     },
     "execution_count": 21,
     "metadata": {},
     "output_type": "execute_result"
    }
   ],
   "source": [
    "df.at[dates[0],'A']    # 为了快速访问标量（相当于以前的方法）："
   ]
  }
 ],
 "metadata": {
  "kernelspec": {
   "display_name": "Python 3",
   "language": "python",
   "name": "python3"
  },
  "language_info": {
   "codemirror_mode": {
    "name": "ipython",
    "version": 3
   },
   "file_extension": ".py",
   "mimetype": "text/x-python",
   "name": "python",
   "nbconvert_exporter": "python",
   "pygments_lexer": "ipython3",
   "version": "3.6.6"
  }
 },
 "nbformat": 4,
 "nbformat_minor": 2
}
