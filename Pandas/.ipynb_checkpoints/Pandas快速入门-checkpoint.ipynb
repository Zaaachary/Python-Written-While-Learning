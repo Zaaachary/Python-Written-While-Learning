{
 "cells": [
  {
   "cell_type": "markdown",
   "metadata": {},
   "source": [
    "# Pandas入门\n",
    "## 目录\n",
    "1. Object Creation 创建对象\n",
    "2. Viewing Data 显示数据\n",
    "3. Selection\n",
    "    - Getting\n",
    "    - Selection by Label\n",
    "    - Selection by Position\n",
    "    - Boolean Indexing\n",
    "    - Setting\n",
    "4. Missing Data\n",
    "5. Operations\n",
    "    - Stats\n",
    "    - Apply\n",
    "    - Histogramming\n",
    "    - String Methods\n",
    "6. Merge\n",
    "    - Concat\n",
    "    - Join\n",
    "    - Append\n",
    "7. Grouping\n",
    "8. Reshaping\n",
    "    - Stack\n",
    "    - Pivot Tables\n",
    "9. Time Series\n",
    "10. Categoricals\n",
    "11. Plotting\n",
    "12. Getting Data In/Out\n",
    "    - CSV\n",
    "    - HDF5\n",
    "    - Excel\n",
    "13. Gotchas"
   ]
  },
  {
   "cell_type": "code",
   "execution_count": 4,
   "metadata": {},
   "outputs": [],
   "source": [
    "import pandas as pd\n",
    "import numpy as np\n",
    "import matplotlib.pyplot as plt"
   ]
  },
  {
   "cell_type": "markdown",
   "metadata": {},
   "source": [
    "## 创建对象"
   ]
  },
  {
   "cell_type": "code",
   "execution_count": 6,
   "metadata": {},
   "outputs": [
    {
     "data": {
      "text/plain": [
       "0    1.0\n",
       "1    3.0\n",
       "2    5.0\n",
       "3    NaN\n",
       "4    6.0\n",
       "5    8.0\n",
       "dtype: float64"
      ]
     },
     "execution_count": 6,
     "metadata": {},
     "output_type": "execute_result"
    }
   ],
   "source": [
    "# 通过传递列表 创建序列\n",
    "s = pd.Series([1,3,5,np.nan,6,8])\n",
    "s"
   ]
  },
  {
   "cell_type": "code",
   "execution_count": 10,
   "metadata": {},
   "outputs": [
    {
     "name": "stdout",
     "output_type": "stream",
     "text": [
      "DatetimeIndex(['2013-01-01', '2013-01-02', '2013-01-03', '2013-01-04',\n",
      "               '2013-01-05', '2013-01-06'],\n",
      "              dtype='datetime64[ns]', freq='D')\n",
      "                   A         B         C         D\n",
      "2013-01-01  2.052510  1.446556 -0.153591  0.805145\n",
      "2013-01-02 -0.021575  2.062778 -0.844067 -0.351292\n",
      "2013-01-03 -0.899637 -0.568931 -0.272361  0.106631\n",
      "2013-01-04 -0.016522  1.540225 -1.254772 -1.860999\n",
      "2013-01-05 -0.256377 -0.679196 -1.167124 -1.041644\n",
      "2013-01-06 -0.254593 -0.235811  1.141688 -0.705360\n"
     ]
    }
   ],
   "source": [
    "# 传递Numpy数组 datetime索引 标签行来创建DataFrame\n",
    "dates = pd.date_range('20130101', periods=6)\n",
    "df = pd.DataFrame(np.random.randn(6,4), index=dates, columns=list('ABCD'))\n",
    "print(dates)\n",
    "print(df)"
   ]
  },
  {
   "cell_type": "code",
   "execution_count": null,
   "metadata": {},
   "outputs": [],
   "source": [
    "# 传递 可被转化成序列形式的对象的字典 创建DataFrame\n",
    "df2 = pd.DataFrame({ \n",
    "    'A': 1.,\n",
    "    'B': pd.Timestamp('20190428'),\n",
    "    'C': pd.Series(1, index=list(range(4)), dtype='float32'),\n",
    "    'D': np.array([3]*4,dtype='int32'),\n",
    "    'E': pd.Categorical(['test','train','test','train']),\n",
    "    'F': 'foo'})\n",
    "df2"
   ]
  },
  {
   "cell_type": "code",
   "execution_count": 14,
   "metadata": {},
   "outputs": [
    {
     "data": {
      "text/plain": [
       "A           float64\n",
       "B    datetime64[ns]\n",
       "C           float32\n",
       "D             int32\n",
       "E          category\n",
       "F            object\n",
       "dtype: object"
      ]
     },
     "execution_count": 14,
     "metadata": {},
     "output_type": "execute_result"
    }
   ],
   "source": [
    "df2.dtypes\n",
    "# df2.<tab>"
   ]
  },
  {
   "cell_type": "markdown",
   "metadata": {},
   "source": [
    "# Viewing Data 显示数据"
   ]
  },
  {
   "cell_type": "code",
   "execution_count": 15,
   "metadata": {},
   "outputs": [
    {
     "data": {
      "text/html": [
       "<div>\n",
       "<style scoped>\n",
       "    .dataframe tbody tr th:only-of-type {\n",
       "        vertical-align: middle;\n",
       "    }\n",
       "\n",
       "    .dataframe tbody tr th {\n",
       "        vertical-align: top;\n",
       "    }\n",
       "\n",
       "    .dataframe thead th {\n",
       "        text-align: right;\n",
       "    }\n",
       "</style>\n",
       "<table border=\"1\" class=\"dataframe\">\n",
       "  <thead>\n",
       "    <tr style=\"text-align: right;\">\n",
       "      <th></th>\n",
       "      <th>A</th>\n",
       "      <th>B</th>\n",
       "      <th>C</th>\n",
       "      <th>D</th>\n",
       "    </tr>\n",
       "  </thead>\n",
       "  <tbody>\n",
       "    <tr>\n",
       "      <th>2013-01-04</th>\n",
       "      <td>-0.016522</td>\n",
       "      <td>1.540225</td>\n",
       "      <td>-1.254772</td>\n",
       "      <td>-1.860999</td>\n",
       "    </tr>\n",
       "    <tr>\n",
       "      <th>2013-01-05</th>\n",
       "      <td>-0.256377</td>\n",
       "      <td>-0.679196</td>\n",
       "      <td>-1.167124</td>\n",
       "      <td>-1.041644</td>\n",
       "    </tr>\n",
       "    <tr>\n",
       "      <th>2013-01-06</th>\n",
       "      <td>-0.254593</td>\n",
       "      <td>-0.235811</td>\n",
       "      <td>1.141688</td>\n",
       "      <td>-0.705360</td>\n",
       "    </tr>\n",
       "  </tbody>\n",
       "</table>\n",
       "</div>"
      ],
      "text/plain": [
       "                   A         B         C         D\n",
       "2013-01-04 -0.016522  1.540225 -1.254772 -1.860999\n",
       "2013-01-05 -0.256377 -0.679196 -1.167124 -1.041644\n",
       "2013-01-06 -0.254593 -0.235811  1.141688 -0.705360"
      ]
     },
     "execution_count": 15,
     "metadata": {},
     "output_type": "execute_result"
    }
   ],
   "source": [
    "df.head()\n",
    "df.tail(3)"
   ]
  },
  {
   "cell_type": "code",
   "execution_count": 16,
   "metadata": {},
   "outputs": [
    {
     "data": {
      "text/plain": [
       "DatetimeIndex(['2013-01-01', '2013-01-02', '2013-01-03', '2013-01-04',\n",
       "               '2013-01-05', '2013-01-06'],\n",
       "              dtype='datetime64[ns]', freq='D')"
      ]
     },
     "execution_count": 16,
     "metadata": {},
     "output_type": "execute_result"
    }
   ],
   "source": [
    "# 显示索引、行以及underlying Numpy data\n",
    "df.index"
   ]
  },
  {
   "cell_type": "code",
   "execution_count": 17,
   "metadata": {},
   "outputs": [
    {
     "data": {
      "text/plain": [
       "Index(['A', 'B', 'C', 'D'], dtype='object')"
      ]
     },
     "execution_count": 17,
     "metadata": {},
     "output_type": "execute_result"
    }
   ],
   "source": [
    "df.columns"
   ]
  },
  {
   "cell_type": "code",
   "execution_count": 18,
   "metadata": {},
   "outputs": [
    {
     "data": {
      "text/plain": [
       "array([[ 2.05250958,  1.44655586, -0.15359147,  0.80514485],\n",
       "       [-0.02157533,  2.0627784 , -0.84406693, -0.35129215],\n",
       "       [-0.89963678, -0.56893144, -0.27236075,  0.10663066],\n",
       "       [-0.01652185,  1.54022501, -1.25477221, -1.8609989 ],\n",
       "       [-0.25637744, -0.67919566, -1.16712397, -1.04164399],\n",
       "       [-0.25459309, -0.23581126,  1.14168843, -0.70535972]])"
      ]
     },
     "execution_count": 18,
     "metadata": {},
     "output_type": "execute_result"
    }
   ],
   "source": [
    "df.values"
   ]
  },
  {
   "cell_type": "code",
   "execution_count": 20,
   "metadata": {},
   "outputs": [
    {
     "data": {
      "text/html": [
       "<div>\n",
       "<style scoped>\n",
       "    .dataframe tbody tr th:only-of-type {\n",
       "        vertical-align: middle;\n",
       "    }\n",
       "\n",
       "    .dataframe tbody tr th {\n",
       "        vertical-align: top;\n",
       "    }\n",
       "\n",
       "    .dataframe thead th {\n",
       "        text-align: right;\n",
       "    }\n",
       "</style>\n",
       "<table border=\"1\" class=\"dataframe\">\n",
       "  <thead>\n",
       "    <tr style=\"text-align: right;\">\n",
       "      <th></th>\n",
       "      <th>A</th>\n",
       "      <th>B</th>\n",
       "      <th>C</th>\n",
       "      <th>D</th>\n",
       "    </tr>\n",
       "  </thead>\n",
       "  <tbody>\n",
       "    <tr>\n",
       "      <th>count</th>\n",
       "      <td>6.000000</td>\n",
       "      <td>6.000000</td>\n",
       "      <td>6.000000</td>\n",
       "      <td>6.000000</td>\n",
       "    </tr>\n",
       "    <tr>\n",
       "      <th>mean</th>\n",
       "      <td>0.100634</td>\n",
       "      <td>0.594270</td>\n",
       "      <td>-0.425038</td>\n",
       "      <td>-0.507920</td>\n",
       "    </tr>\n",
       "    <tr>\n",
       "      <th>std</th>\n",
       "      <td>1.009224</td>\n",
       "      <td>1.219961</td>\n",
       "      <td>0.890658</td>\n",
       "      <td>0.925312</td>\n",
       "    </tr>\n",
       "    <tr>\n",
       "      <th>min</th>\n",
       "      <td>-0.899637</td>\n",
       "      <td>-0.679196</td>\n",
       "      <td>-1.254772</td>\n",
       "      <td>-1.860999</td>\n",
       "    </tr>\n",
       "    <tr>\n",
       "      <th>25%</th>\n",
       "      <td>-0.255931</td>\n",
       "      <td>-0.485651</td>\n",
       "      <td>-1.086360</td>\n",
       "      <td>-0.957573</td>\n",
       "    </tr>\n",
       "    <tr>\n",
       "      <th>50%</th>\n",
       "      <td>-0.138084</td>\n",
       "      <td>0.605372</td>\n",
       "      <td>-0.558214</td>\n",
       "      <td>-0.528326</td>\n",
       "    </tr>\n",
       "    <tr>\n",
       "      <th>75%</th>\n",
       "      <td>-0.017785</td>\n",
       "      <td>1.516808</td>\n",
       "      <td>-0.183284</td>\n",
       "      <td>-0.007850</td>\n",
       "    </tr>\n",
       "    <tr>\n",
       "      <th>max</th>\n",
       "      <td>2.052510</td>\n",
       "      <td>2.062778</td>\n",
       "      <td>1.141688</td>\n",
       "      <td>0.805145</td>\n",
       "    </tr>\n",
       "  </tbody>\n",
       "</table>\n",
       "</div>"
      ],
      "text/plain": [
       "              A         B         C         D\n",
       "count  6.000000  6.000000  6.000000  6.000000\n",
       "mean   0.100634  0.594270 -0.425038 -0.507920\n",
       "std    1.009224  1.219961  0.890658  0.925312\n",
       "min   -0.899637 -0.679196 -1.254772 -1.860999\n",
       "25%   -0.255931 -0.485651 -1.086360 -0.957573\n",
       "50%   -0.138084  0.605372 -0.558214 -0.528326\n",
       "75%   -0.017785  1.516808 -0.183284 -0.007850\n",
       "max    2.052510  2.062778  1.141688  0.805145"
      ]
     },
     "execution_count": 20,
     "metadata": {},
     "output_type": "execute_result"
    }
   ],
   "source": [
    "df.describe()# 展示数据快速的统计摘要"
   ]
  },
  {
   "cell_type": "code",
   "execution_count": 21,
   "metadata": {
    "scrolled": false
   },
   "outputs": [
    {
     "data": {
      "text/html": [
       "<div>\n",
       "<style scoped>\n",
       "    .dataframe tbody tr th:only-of-type {\n",
       "        vertical-align: middle;\n",
       "    }\n",
       "\n",
       "    .dataframe tbody tr th {\n",
       "        vertical-align: top;\n",
       "    }\n",
       "\n",
       "    .dataframe thead th {\n",
       "        text-align: right;\n",
       "    }\n",
       "</style>\n",
       "<table border=\"1\" class=\"dataframe\">\n",
       "  <thead>\n",
       "    <tr style=\"text-align: right;\">\n",
       "      <th></th>\n",
       "      <th>2013-01-01 00:00:00</th>\n",
       "      <th>2013-01-02 00:00:00</th>\n",
       "      <th>2013-01-03 00:00:00</th>\n",
       "      <th>2013-01-04 00:00:00</th>\n",
       "      <th>2013-01-05 00:00:00</th>\n",
       "      <th>2013-01-06 00:00:00</th>\n",
       "    </tr>\n",
       "  </thead>\n",
       "  <tbody>\n",
       "    <tr>\n",
       "      <th>A</th>\n",
       "      <td>2.052510</td>\n",
       "      <td>-0.021575</td>\n",
       "      <td>-0.899637</td>\n",
       "      <td>-0.016522</td>\n",
       "      <td>-0.256377</td>\n",
       "      <td>-0.254593</td>\n",
       "    </tr>\n",
       "    <tr>\n",
       "      <th>B</th>\n",
       "      <td>1.446556</td>\n",
       "      <td>2.062778</td>\n",
       "      <td>-0.568931</td>\n",
       "      <td>1.540225</td>\n",
       "      <td>-0.679196</td>\n",
       "      <td>-0.235811</td>\n",
       "    </tr>\n",
       "    <tr>\n",
       "      <th>C</th>\n",
       "      <td>-0.153591</td>\n",
       "      <td>-0.844067</td>\n",
       "      <td>-0.272361</td>\n",
       "      <td>-1.254772</td>\n",
       "      <td>-1.167124</td>\n",
       "      <td>1.141688</td>\n",
       "    </tr>\n",
       "    <tr>\n",
       "      <th>D</th>\n",
       "      <td>0.805145</td>\n",
       "      <td>-0.351292</td>\n",
       "      <td>0.106631</td>\n",
       "      <td>-1.860999</td>\n",
       "      <td>-1.041644</td>\n",
       "      <td>-0.705360</td>\n",
       "    </tr>\n",
       "  </tbody>\n",
       "</table>\n",
       "</div>"
      ],
      "text/plain": [
       "   2013-01-01  2013-01-02  2013-01-03  2013-01-04  2013-01-05  2013-01-06\n",
       "A    2.052510   -0.021575   -0.899637   -0.016522   -0.256377   -0.254593\n",
       "B    1.446556    2.062778   -0.568931    1.540225   -0.679196   -0.235811\n",
       "C   -0.153591   -0.844067   -0.272361   -1.254772   -1.167124    1.141688\n",
       "D    0.805145   -0.351292    0.106631   -1.860999   -1.041644   -0.705360"
      ]
     },
     "execution_count": 21,
     "metadata": {},
     "output_type": "execute_result"
    }
   ],
   "source": [
    "df.T # 转制数据"
   ]
  },
  {
   "cell_type": "code",
   "execution_count": null,
   "metadata": {},
   "outputs": [],
   "source": []
  }
 ],
 "metadata": {
  "kernelspec": {
   "display_name": "Python 3",
   "language": "python",
   "name": "python3"
  },
  "language_info": {
   "codemirror_mode": {
    "name": "ipython",
    "version": 3
   },
   "file_extension": ".py",
   "mimetype": "text/x-python",
   "name": "python",
   "nbconvert_exporter": "python",
   "pygments_lexer": "ipython3",
   "version": "3.6.6"
  }
 },
 "nbformat": 4,
 "nbformat_minor": 2
}
