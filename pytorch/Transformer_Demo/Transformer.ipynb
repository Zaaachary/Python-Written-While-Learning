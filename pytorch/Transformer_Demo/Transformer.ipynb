{
  "nbformat": 4,
  "nbformat_minor": 0,
  "metadata": {
    "colab": {
      "name": "Transformer.ipynb",
      "provenance": [],
      "collapsed_sections": []
    },
    "kernelspec": {
      "name": "python3",
      "display_name": "Python 3"
    },
    "accelerator": "GPU"
  },
  "cells": [
    {
      "cell_type": "markdown",
      "metadata": {
        "id": "umagivnj4B0A",
        "colab_type": "text"
      },
      "source": [
        "# NN.TRANSFORMER AND TORCHTEXT\n",
        "[original link](https://pytorch.org/tutorials/beginner/transformer_tutorial.html)"
      ]
    },
    {
      "cell_type": "code",
      "metadata": {
        "id": "TXiyXD1z3wjo",
        "colab_type": "code",
        "colab": {}
      },
      "source": [
        "import math\n",
        "import torch\n",
        "import torch.nn as nn\n",
        "import torch.nn.functional as F"
      ],
      "execution_count": 2,
      "outputs": []
    },
    {
      "cell_type": "code",
      "metadata": {
        "id": "UxX2RNRE_mbX",
        "colab_type": "code",
        "colab": {}
      },
      "source": [
        "class TransformerModel(nn.Module):\n",
        "\n",
        "    def __init__(self, ntoken, ninp, nhead, nhid, nlayers, dropout=0.5):\n",
        "        super(TransformerModel, self).__init__()\n",
        "        from torch.nn import TransformerEncoder, TransformerEncoderLayer\n",
        "        self.model_type = 'Transformer'\n",
        "        self.src_mask = None\n",
        "        self.pos_encoder = PositionalEncoding(ninp, dropout)\n",
        "        encoder_layers = TransformerEncoderLayer(ninp, nhead, nhid, dropout)\n",
        "        self.transformer_encoder = TransformerEncoder(encoder_layers, nlayers)\n",
        "        self.encoder = nn.Embedding(ntoken, ninp)\n",
        "        self.ninp = ninp\n",
        "        self.decoder = nn.Linear(ninp, ntoken)\n",
        "\n",
        "        self.init_weights()\n",
        "\n",
        "    def _generate_square_subsequent_mask(self, sz):\n",
        "        mask = (torch.triu(torch.ones(sz, sz)) == 1).transpose(0, 1)\n",
        "        mask = mask.float().masked_fill(mask == 0, float('-inf')).masked_fill(mask == 1, float(0.0))\n",
        "        return mask\n",
        "\n",
        "    def init_weights(self):\n",
        "        initrange = 0.1\n",
        "        self.encoder.weight.data.uniform_(-initrange, initrange)\n",
        "        self.decoder.bias.data.zero_()\n",
        "        self.decoder.weight.data.uniform_(-initrange, initrange)\n",
        "\n",
        "    def forward(self, src):\n",
        "        if self.src_mask is None or self.src_mask.size(0) != src.size(0):\n",
        "            device = src.device\n",
        "            mask = self._generate_square_subsequent_mask(src.size(0)).to(device)\n",
        "            self.src_mask = mask\n",
        "\n",
        "        src = self.encoder(src) * math.sqrt(self.ninp)\n",
        "        src = self.pos_encoder(src)\n",
        "        output = self.transformer_encoder(src, self.src_mask)\n",
        "        output = self.decoder(output)\n",
        "        return output"
      ],
      "execution_count": 3,
      "outputs": []
    },
    {
      "cell_type": "code",
      "metadata": {
        "id": "RoksR2fO_sl6",
        "colab_type": "code",
        "colab": {}
      },
      "source": [
        "class PositionalEncoding(nn.Module):\n",
        "\n",
        "    def __init__(self, d_model, dropout=0.1, max_len=5000):\n",
        "      # d_model  ninp\n",
        "        super(PositionalEncoding, self).__init__()\n",
        "        self.dropout = nn.Dropout(p=dropout)\n",
        "\n",
        "        pe = torch.zeros(max_len, d_model)\n",
        "        position = torch.arange(0, max_len, dtype=torch.float).unsqueeze(1)\n",
        "        div_term = torch.exp(torch.arange(0, d_model, 2).float() * (-math.log(10000.0) / d_model))\n",
        "        pe[:, 0::2] = torch.sin(position * div_term)\n",
        "        pe[:, 1::2] = torch.cos(position * div_term)\n",
        "        pe = pe.unsqueeze(0).transpose(0, 1)\n",
        "        self.register_buffer('pe', pe)\n",
        "\n",
        "    def forward(self, x):\n",
        "        x = x + self.pe[:x.size(0), :]\n",
        "        return self.dropout(x)"
      ],
      "execution_count": 4,
      "outputs": []
    },
    {
      "cell_type": "code",
      "metadata": {
        "id": "lhqcR-s3_9hK",
        "colab_type": "code",
        "colab": {}
      },
      "source": [
        "import torchtext\n",
        "from torchtext.data.utils import get_tokenizer"
      ],
      "execution_count": 5,
      "outputs": []
    },
    {
      "cell_type": "code",
      "metadata": {
        "id": "Fx-ZiEvzlVao",
        "colab_type": "code",
        "colab": {
          "base_uri": "https://localhost:8080/",
          "height": 71
        },
        "outputId": "d5411638-a26e-4281-b9c9-4e9227a5e499"
      },
      "source": [
        "\n",
        "# TEXT = torchtext.data.Field(tokenize=get_tokenizer(\"basic_english\"),\n",
        "TEXT = torchtext.data.Field(tokenize=get_tokenizer(\"spacy\"),\n",
        "                            init_token='<sos>',\n",
        "                            eos_token='<eos>',\n",
        "                            lower=True)\n",
        "train_txt, val_txt, test_txt = torchtext.datasets.WikiText2.splits(TEXT)\n",
        "TEXT.build_vocab(train_txt)\n",
        "device = torch.device(\"cuda\" if torch.cuda.is_available() else \"cpu\")\n",
        "\n",
        "def batchify(data, bsz):\n",
        "    data = TEXT.numericalize([data.examples[0].text])\n",
        "    # Divide the dataset into bsz parts.\n",
        "    nbatch = data.size(0) // bsz\n",
        "    # Trim off any extra elements that wouldn't cleanly fit (remainders).\n",
        "    data = data.narrow(0, 0, nbatch * bsz)\n",
        "    # Evenly divide the data across the bsz batches.\n",
        "    data = data.view(bsz, -1).t().contiguous()\n",
        "    return data.to(device)\n",
        "\n",
        "batch_size = 20\n",
        "eval_batch_size = 10\n",
        "train_data = batchify(train_txt, batch_size)\n",
        "val_data = batchify(val_txt, eval_batch_size)\n",
        "test_data = batchify(test_txt, eval_batch_size)"
      ],
      "execution_count": 6,
      "outputs": [
        {
          "output_type": "stream",
          "text": [
            "downloading wikitext-2-v1.zip\n"
          ],
          "name": "stdout"
        },
        {
          "output_type": "stream",
          "text": [
            "wikitext-2-v1.zip: 100%|██████████| 4.48M/4.48M [00:00<00:00, 6.78MB/s]\n"
          ],
          "name": "stderr"
        },
        {
          "output_type": "stream",
          "text": [
            "extracting\n"
          ],
          "name": "stdout"
        }
      ]
    },
    {
      "cell_type": "code",
      "metadata": {
        "id": "280kcTzkmOYG",
        "colab_type": "code",
        "colab": {}
      },
      "source": [
        "bptt = 35   # chunks的长度 \n",
        "def get_batch(source, i):\n",
        "  seq_len = min(bptt, len(source) - 1 - i)  # 还剩下足够的长度则取bptt\n",
        "  data = source[i:i+seq_len]\n",
        "  target = source[i+1:i+1+seq_len].view(-1)  # language modeling task中 following words 是target\n",
        "  return data, target\n",
        "\n",
        "# the chunks are along dimension 0, consistent with the S dimension in the Transformer model. \n",
        "# The batch dimension N is along dimension 1."
      ],
      "execution_count": 7,
      "outputs": []
    },
    {
      "cell_type": "code",
      "metadata": {
        "id": "R9aVKoOZotyI",
        "colab_type": "code",
        "colab": {}
      },
      "source": [
        "# Initiate an instance\n",
        "ntokens = len(TEXT.vocab.stoi) # 单词表的大小\n",
        "emsize = 200 # 嵌入维度\n",
        "nhid = 200 # nn.TransformerEncoder 全连接网络的隐藏层维度\n",
        "nlayers = 2 # the number of nn.TransformerEncoderLayer in nn.TransformerEncoder\n",
        "nhead = 2 # the number of heads in the multiheadattention models  多头个数\n",
        "dropout = 0.2 # the dropout value\n",
        "model = TransformerModel(ntokens, emsize, nhead, nhid, nlayers, dropout).to(device)"
      ],
      "execution_count": 8,
      "outputs": []
    },
    {
      "cell_type": "code",
      "metadata": {
        "id": "4MXPipCbpLcI",
        "colab_type": "code",
        "colab": {}
      },
      "source": [
        "# Run the model\n",
        "criterion = nn.CrossEntropyLoss()\n",
        "lr = 5.0 # learning rate\n",
        "optimizer = torch.optim.SGD(model.parameters(), lr=lr)\n",
        "scheduler = torch.optim.lr_scheduler.StepLR(optimizer, 1.0, gamma=0.95)"
      ],
      "execution_count": 9,
      "outputs": []
    },
    {
      "cell_type": "code",
      "metadata": {
        "id": "dOfZ-_k3qfCT",
        "colab_type": "code",
        "colab": {}
      },
      "source": [
        "import time\n",
        "def train():\n",
        "    model.train() # Turn on the train mode\n",
        "    total_loss = 0.\n",
        "    start_time = time.time()\n",
        "    ntokens = len(TEXT.vocab.stoi)\n",
        "    for batch, i in enumerate(range(0, train_data.size(0) - 1, bptt)):\n",
        "        data, targets = get_batch(train_data, i)\n",
        "        optimizer.zero_grad()\n",
        "        output = model(data)\n",
        "        loss = criterion(output.view(-1, ntokens), targets)\n",
        "        loss.backward()\n",
        "        torch.nn.utils.clip_grad_norm_(model.parameters(), 0.5)\n",
        "        optimizer.step()\n",
        "\n",
        "        total_loss += loss.item()\n",
        "        log_interval = 200\n",
        "        if batch % log_interval == 0 and batch > 0:\n",
        "            cur_loss = total_loss / log_interval\n",
        "            elapsed = time.time() - start_time\n",
        "            print('| epoch {:3d} | {:5d}/{:5d} batches | '\n",
        "                  'lr {:02.2f} | ms/batch {:5.2f} | '\n",
        "                  'loss {:5.2f} | ppl {:8.2f}'.format(\n",
        "                    epoch, batch, len(train_data) // bptt, scheduler.get_lr()[0],\n",
        "                    elapsed * 1000 / log_interval,\n",
        "                    cur_loss, math.exp(cur_loss)))\n",
        "            total_loss = 0\n",
        "            start_time = time.time()"
      ],
      "execution_count": 10,
      "outputs": []
    },
    {
      "cell_type": "code",
      "metadata": {
        "id": "CbNxadRdqySJ",
        "colab_type": "code",
        "colab": {}
      },
      "source": [
        "def evaluate(eval_model, data_source):\n",
        "    eval_model.eval() # Turn on the evaluation mode\n",
        "    total_loss = 0.\n",
        "    ntokens = len(TEXT.vocab.stoi)\n",
        "    with torch.no_grad():\n",
        "        for i in range(0, data_source.size(0) - 1, bptt):\n",
        "            data, targets = get_batch(data_source, i)\n",
        "            output = eval_model(data)\n",
        "            output_flat = output.view(-1, ntokens)\n",
        "            total_loss += len(data) * criterion(output_flat, targets).item()\n",
        "    return total_loss / (len(data_source) - 1)"
      ],
      "execution_count": 11,
      "outputs": []
    },
    {
      "cell_type": "code",
      "metadata": {
        "id": "TG-PVxrwrSwY",
        "colab_type": "code",
        "colab": {
          "base_uri": "https://localhost:8080/",
          "height": 757
        },
        "outputId": "8d739c9c-33f2-4a9f-e781-ebc889d76e18"
      },
      "source": [
        "best_val_loss = float(\"inf\")\n",
        "epochs = 3 # The number of epochs\n",
        "best_model = None\n",
        "\n",
        "for epoch in range(1, epochs + 1):\n",
        "    epoch_start_time = time.time()\n",
        "    train()\n",
        "    # 每个epoch之后评估\n",
        "    val_loss = evaluate(model, val_data)\n",
        "    print('-' * 89)\n",
        "    print('| end of epoch {:3d} | time: {:5.2f}s | valid loss {:5.2f} | '\n",
        "          'valid ppl {:8.2f}'.format(epoch, (time.time() - epoch_start_time),\n",
        "                                     val_loss, math.exp(val_loss)))\n",
        "    print('-' * 89)\n",
        "\n",
        "    if val_loss < best_val_loss:\n",
        "        best_val_loss = val_loss\n",
        "        best_model = model\n",
        "\n",
        "    scheduler.step()"
      ],
      "execution_count": null,
      "outputs": [
        {
          "output_type": "stream",
          "text": [
            "/usr/local/lib/python3.6/dist-packages/torch/optim/lr_scheduler.py:351: UserWarning: To get the last learning rate computed by the scheduler, please use `get_last_lr()`.\n",
            "  \"please use `get_last_lr()`.\", UserWarning)\n"
          ],
          "name": "stderr"
        },
        {
          "output_type": "stream",
          "text": [
            "| epoch   1 |   200/ 3195 batches | lr 5.00 | ms/batch 38.18 | loss  7.33 | ppl  1528.99\n",
            "| epoch   1 |   400/ 3195 batches | lr 5.00 | ms/batch 35.96 | loss  6.29 | ppl   539.58\n",
            "| epoch   1 |   600/ 3195 batches | lr 5.00 | ms/batch 36.17 | loss  5.98 | ppl   395.20\n",
            "| epoch   1 |   800/ 3195 batches | lr 5.00 | ms/batch 36.18 | loss  5.80 | ppl   331.49\n",
            "| epoch   1 |  1000/ 3195 batches | lr 5.00 | ms/batch 36.35 | loss  5.81 | ppl   334.43\n",
            "| epoch   1 |  1200/ 3195 batches | lr 5.00 | ms/batch 36.50 | loss  5.76 | ppl   315.81\n",
            "| epoch   1 |  1400/ 3195 batches | lr 5.00 | ms/batch 36.72 | loss  5.71 | ppl   302.54\n",
            "| epoch   1 |  1600/ 3195 batches | lr 5.00 | ms/batch 36.84 | loss  5.61 | ppl   273.79\n",
            "| epoch   1 |  1800/ 3195 batches | lr 5.00 | ms/batch 36.96 | loss  5.64 | ppl   281.01\n",
            "| epoch   1 |  2000/ 3195 batches | lr 5.00 | ms/batch 37.02 | loss  5.64 | ppl   282.44\n",
            "| epoch   1 |  2200/ 3195 batches | lr 5.00 | ms/batch 37.04 | loss  5.58 | ppl   265.21\n",
            "| epoch   1 |  2400/ 3195 batches | lr 5.00 | ms/batch 36.92 | loss  5.46 | ppl   235.25\n",
            "| epoch   1 |  2600/ 3195 batches | lr 5.00 | ms/batch 36.93 | loss  5.54 | ppl   255.28\n",
            "| epoch   1 |  2800/ 3195 batches | lr 5.00 | ms/batch 36.97 | loss  5.52 | ppl   250.35\n",
            "| epoch   1 |  3000/ 3195 batches | lr 5.00 | ms/batch 36.84 | loss  5.42 | ppl   225.83\n",
            "-----------------------------------------------------------------------------------------\n",
            "| end of epoch   1 | time: 122.22s | valid loss  5.15 | valid ppl   173.12\n",
            "-----------------------------------------------------------------------------------------\n",
            "| epoch   2 |   200/ 3195 batches | lr 4.51 | ms/batch 37.10 | loss  5.39 | ppl   219.72\n",
            "| epoch   2 |   400/ 3195 batches | lr 4.51 | ms/batch 36.88 | loss  5.37 | ppl   214.52\n",
            "| epoch   2 |   600/ 3195 batches | lr 4.51 | ms/batch 36.93 | loss  5.27 | ppl   194.89\n",
            "| epoch   2 |   800/ 3195 batches | lr 4.51 | ms/batch 36.88 | loss  5.24 | ppl   188.52\n",
            "| epoch   2 |  1000/ 3195 batches | lr 4.51 | ms/batch 36.89 | loss  5.32 | ppl   205.12\n",
            "| epoch   2 |  1200/ 3195 batches | lr 4.51 | ms/batch 36.86 | loss  5.30 | ppl   199.56\n",
            "| epoch   2 |  1400/ 3195 batches | lr 4.51 | ms/batch 36.84 | loss  5.31 | ppl   202.52\n",
            "| epoch   2 |  1600/ 3195 batches | lr 4.51 | ms/batch 36.82 | loss  5.24 | ppl   188.06\n",
            "| epoch   2 |  1800/ 3195 batches | lr 4.51 | ms/batch 36.89 | loss  5.27 | ppl   194.75\n",
            "| epoch   2 |  2000/ 3195 batches | lr 4.51 | ms/batch 36.95 | loss  5.30 | ppl   200.39\n",
            "| epoch   2 |  2200/ 3195 batches | lr 4.51 | ms/batch 36.89 | loss  5.26 | ppl   193.29\n",
            "| epoch   2 |  2400/ 3195 batches | lr 4.51 | ms/batch 36.77 | loss  5.15 | ppl   171.73\n",
            "| epoch   2 |  2600/ 3195 batches | lr 4.51 | ms/batch 36.83 | loss  5.24 | ppl   189.50\n",
            "| epoch   2 |  2800/ 3195 batches | lr 4.51 | ms/batch 36.86 | loss  5.23 | ppl   187.65\n",
            "| epoch   2 |  3000/ 3195 batches | lr 4.51 | ms/batch 36.85 | loss  5.15 | ppl   172.38\n",
            "-----------------------------------------------------------------------------------------\n",
            "| end of epoch   2 | time: 122.55s | valid loss  5.02 | valid ppl   151.67\n",
            "-----------------------------------------------------------------------------------------\n",
            "| epoch   3 |   200/ 3195 batches | lr 4.29 | ms/batch 37.06 | loss  5.16 | ppl   173.87\n",
            "| epoch   3 |   400/ 3195 batches | lr 4.29 | ms/batch 36.66 | loss  5.16 | ppl   174.37\n"
          ],
          "name": "stdout"
        }
      ]
    },
    {
      "cell_type": "code",
      "metadata": {
        "id": "vMh8JoOIrrDT",
        "colab_type": "code",
        "colab": {}
      },
      "source": [
        "test_loss = evaluate(best_model, test_data)\n",
        "print('=' * 89)\n",
        "print('| End of training | test loss {:5.2f} | test ppl {:8.2f}'.format(\n",
        "    test_loss, math.exp(test_loss)))\n",
        "print('=' * 89)"
      ],
      "execution_count": null,
      "outputs": []
    }
  ]
}